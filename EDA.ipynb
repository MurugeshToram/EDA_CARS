{
 "cells": [
  {
   "cell_type": "code",
   "execution_count": 24,
   "id": "b84ae39b",
   "metadata": {},
   "outputs": [],
   "source": [
    "import numpy as np\n",
    "import pandas as pd\n",
    "pd.set_option('display.max_columns', 40)\n",
    "import matplotlib.pyplot as plt\n",
    "import matplotlib.gridspec as gridspec\n",
    "import seaborn as sns\n",
    "%matplotlib inline\n",
    "sns.set_style('darkgrid')\n",
    "import plotly.express as px\n",
    "from sklearn.cluster import KMeans\n",
    "import warnings\n",
    "warnings.filterwarnings('ignore');"
   ]
  },
  {
   "cell_type": "code",
   "execution_count": 25,
   "id": "cce1ede6",
   "metadata": {},
   "outputs": [],
   "source": [
    "df=pd.read_csv('C:/Users/Dell/Desktop/CARS.csv')"
   ]
  },
  {
   "cell_type": "code",
   "execution_count": 26,
   "id": "f6abc641",
   "metadata": {},
   "outputs": [
    {
     "data": {
      "text/html": [
       "<div>\n",
       "<style scoped>\n",
       "    .dataframe tbody tr th:only-of-type {\n",
       "        vertical-align: middle;\n",
       "    }\n",
       "\n",
       "    .dataframe tbody tr th {\n",
       "        vertical-align: top;\n",
       "    }\n",
       "\n",
       "    .dataframe thead th {\n",
       "        text-align: right;\n",
       "    }\n",
       "</style>\n",
       "<table border=\"1\" class=\"dataframe\">\n",
       "  <thead>\n",
       "    <tr style=\"text-align: right;\">\n",
       "      <th></th>\n",
       "      <th>Unnamed: 0</th>\n",
       "      <th>Make</th>\n",
       "      <th>Model</th>\n",
       "      <th>Variant</th>\n",
       "      <th>Ex-Showroom_Price</th>\n",
       "      <th>Displacement</th>\n",
       "      <th>Cylinders</th>\n",
       "      <th>Valves_Per_Cylinder</th>\n",
       "      <th>Drivetrain</th>\n",
       "      <th>Cylinder_Configuration</th>\n",
       "      <th>Emission_Norm</th>\n",
       "      <th>Engine_Location</th>\n",
       "      <th>Fuel_System</th>\n",
       "      <th>Fuel_Tank_Capacity</th>\n",
       "      <th>Fuel_Type</th>\n",
       "      <th>Height</th>\n",
       "      <th>Length</th>\n",
       "      <th>Width</th>\n",
       "      <th>Body_Type</th>\n",
       "      <th>Doors</th>\n",
       "      <th>...</th>\n",
       "      <th>Rear_Center_Armrest</th>\n",
       "      <th>iPod_Compatibility</th>\n",
       "      <th>ESP_(Electronic_Stability_Program)</th>\n",
       "      <th>Cooled_Glove_Box</th>\n",
       "      <th>Recommended_Tyre_Pressure</th>\n",
       "      <th>Heated_Seats</th>\n",
       "      <th>Turbocharger</th>\n",
       "      <th>ISOFIX_(Child-Seat_Mount)</th>\n",
       "      <th>Rain_Sensing_Wipers</th>\n",
       "      <th>Paddle_Shifters</th>\n",
       "      <th>Leather_Wrapped_Steering</th>\n",
       "      <th>Automatic_Headlamps</th>\n",
       "      <th>Engine_Type</th>\n",
       "      <th>ASR_/_Traction_Control</th>\n",
       "      <th>Cruise_Control</th>\n",
       "      <th>USB_Ports</th>\n",
       "      <th>Heads-Up_Display</th>\n",
       "      <th>Welcome_Lights</th>\n",
       "      <th>Battery</th>\n",
       "      <th>Electric_Range</th>\n",
       "    </tr>\n",
       "  </thead>\n",
       "  <tbody>\n",
       "    <tr>\n",
       "      <th>1236</th>\n",
       "      <td>1236</td>\n",
       "      <td>Toyota</td>\n",
       "      <td>Yaris</td>\n",
       "      <td>J (O) Cvt</td>\n",
       "      <td>Rs. 9,35,000</td>\n",
       "      <td>1496 cc</td>\n",
       "      <td>4.0</td>\n",
       "      <td>4.0</td>\n",
       "      <td>FWD (Front Wheel Drive)</td>\n",
       "      <td>In-line</td>\n",
       "      <td>BS IV</td>\n",
       "      <td>NaN</td>\n",
       "      <td>Injection</td>\n",
       "      <td>42 litres</td>\n",
       "      <td>Petrol</td>\n",
       "      <td>1495 mm</td>\n",
       "      <td>4425 mm</td>\n",
       "      <td>1730 mm</td>\n",
       "      <td>Sedan</td>\n",
       "      <td>4.0</td>\n",
       "      <td>...</td>\n",
       "      <td>Cup Holders</td>\n",
       "      <td>NaN</td>\n",
       "      <td>NaN</td>\n",
       "      <td>Yes</td>\n",
       "      <td>NaN</td>\n",
       "      <td>NaN</td>\n",
       "      <td>NaN</td>\n",
       "      <td>NaN</td>\n",
       "      <td>NaN</td>\n",
       "      <td>NaN</td>\n",
       "      <td>NaN</td>\n",
       "      <td>NaN</td>\n",
       "      <td>NaN</td>\n",
       "      <td>NaN</td>\n",
       "      <td>NaN</td>\n",
       "      <td>NaN</td>\n",
       "      <td>NaN</td>\n",
       "      <td>NaN</td>\n",
       "      <td>NaN</td>\n",
       "      <td>NaN</td>\n",
       "    </tr>\n",
       "    <tr>\n",
       "      <th>256</th>\n",
       "      <td>256</td>\n",
       "      <td>NaN</td>\n",
       "      <td>Mercedes-Benz Cla-Class</td>\n",
       "      <td>200 Sport</td>\n",
       "      <td>Rs. 35,99,000</td>\n",
       "      <td>1991 cc</td>\n",
       "      <td>4.0</td>\n",
       "      <td>4.0</td>\n",
       "      <td>FWD (Front Wheel Drive)</td>\n",
       "      <td>In-line</td>\n",
       "      <td>BS IV</td>\n",
       "      <td>Front, Transverse</td>\n",
       "      <td>Injection</td>\n",
       "      <td>56 litres</td>\n",
       "      <td>Petrol</td>\n",
       "      <td>1432 mm</td>\n",
       "      <td>4630 mm</td>\n",
       "      <td>1777 mm</td>\n",
       "      <td>Sedan</td>\n",
       "      <td>4.0</td>\n",
       "      <td>...</td>\n",
       "      <td>Cup Holders</td>\n",
       "      <td>Yes</td>\n",
       "      <td>Yes</td>\n",
       "      <td>Yes</td>\n",
       "      <td>NaN</td>\n",
       "      <td>NaN</td>\n",
       "      <td>NaN</td>\n",
       "      <td>Yes</td>\n",
       "      <td>Yes</td>\n",
       "      <td>Yes</td>\n",
       "      <td>Yes</td>\n",
       "      <td>Yes</td>\n",
       "      <td>NaN</td>\n",
       "      <td>Yes</td>\n",
       "      <td>Yes</td>\n",
       "      <td>NaN</td>\n",
       "      <td>NaN</td>\n",
       "      <td>NaN</td>\n",
       "      <td>NaN</td>\n",
       "      <td>NaN</td>\n",
       "    </tr>\n",
       "    <tr>\n",
       "      <th>572</th>\n",
       "      <td>572</td>\n",
       "      <td>Hyundai</td>\n",
       "      <td>Verna</td>\n",
       "      <td>1.6 Vtvt Sx</td>\n",
       "      <td>Rs. 9,99,900</td>\n",
       "      <td>1591 cc</td>\n",
       "      <td>4.0</td>\n",
       "      <td>4.0</td>\n",
       "      <td>FWD (Front Wheel Drive)</td>\n",
       "      <td>In-line</td>\n",
       "      <td>BS IV</td>\n",
       "      <td>Front, Transverse</td>\n",
       "      <td>Injection</td>\n",
       "      <td>45 litres</td>\n",
       "      <td>Petrol</td>\n",
       "      <td>1445 mm</td>\n",
       "      <td>4440 mm</td>\n",
       "      <td>1729 mm</td>\n",
       "      <td>Sedan</td>\n",
       "      <td>4.0</td>\n",
       "      <td>...</td>\n",
       "      <td>Cup Holders</td>\n",
       "      <td>NaN</td>\n",
       "      <td>NaN</td>\n",
       "      <td>Yes</td>\n",
       "      <td>NaN</td>\n",
       "      <td>NaN</td>\n",
       "      <td>NaN</td>\n",
       "      <td>NaN</td>\n",
       "      <td>NaN</td>\n",
       "      <td>NaN</td>\n",
       "      <td>Yes</td>\n",
       "      <td>Yes</td>\n",
       "      <td>NaN</td>\n",
       "      <td>NaN</td>\n",
       "      <td>Yes</td>\n",
       "      <td>NaN</td>\n",
       "      <td>NaN</td>\n",
       "      <td>NaN</td>\n",
       "      <td>NaN</td>\n",
       "      <td>NaN</td>\n",
       "    </tr>\n",
       "    <tr>\n",
       "      <th>539</th>\n",
       "      <td>539</td>\n",
       "      <td>Maruti Suzuki</td>\n",
       "      <td>Vitara Brezza</td>\n",
       "      <td>Vdi</td>\n",
       "      <td>Rs. 8,14,742</td>\n",
       "      <td>1248 cc</td>\n",
       "      <td>4.0</td>\n",
       "      <td>4.0</td>\n",
       "      <td>FWD (Front Wheel Drive)</td>\n",
       "      <td>In-line</td>\n",
       "      <td>BS IV</td>\n",
       "      <td>Front, Longitudinal</td>\n",
       "      <td>Injection</td>\n",
       "      <td>48 litres</td>\n",
       "      <td>Diesel</td>\n",
       "      <td>1640 mm</td>\n",
       "      <td>3995 mm</td>\n",
       "      <td>1790 mm</td>\n",
       "      <td>SUV</td>\n",
       "      <td>5.0</td>\n",
       "      <td>...</td>\n",
       "      <td>NaN</td>\n",
       "      <td>NaN</td>\n",
       "      <td>NaN</td>\n",
       "      <td>NaN</td>\n",
       "      <td>NaN</td>\n",
       "      <td>NaN</td>\n",
       "      <td>Yes</td>\n",
       "      <td>NaN</td>\n",
       "      <td>NaN</td>\n",
       "      <td>NaN</td>\n",
       "      <td>NaN</td>\n",
       "      <td>NaN</td>\n",
       "      <td>NaN</td>\n",
       "      <td>NaN</td>\n",
       "      <td>NaN</td>\n",
       "      <td>NaN</td>\n",
       "      <td>NaN</td>\n",
       "      <td>NaN</td>\n",
       "      <td>NaN</td>\n",
       "      <td>NaN</td>\n",
       "    </tr>\n",
       "    <tr>\n",
       "      <th>87</th>\n",
       "      <td>87</td>\n",
       "      <td>Toyota</td>\n",
       "      <td>Etios Liva</td>\n",
       "      <td>G</td>\n",
       "      <td>Rs. 5,20,300</td>\n",
       "      <td>1197 cc</td>\n",
       "      <td>4.0</td>\n",
       "      <td>4.0</td>\n",
       "      <td>FWD (Front Wheel Drive)</td>\n",
       "      <td>In-line</td>\n",
       "      <td>BS IV</td>\n",
       "      <td>Front, Transverse</td>\n",
       "      <td>Injection</td>\n",
       "      <td>45 litres</td>\n",
       "      <td>Petrol</td>\n",
       "      <td>1510 mm</td>\n",
       "      <td>3884 mm</td>\n",
       "      <td>1695 mm</td>\n",
       "      <td>Hatchback</td>\n",
       "      <td>5.0</td>\n",
       "      <td>...</td>\n",
       "      <td>NaN</td>\n",
       "      <td>NaN</td>\n",
       "      <td>NaN</td>\n",
       "      <td>Yes</td>\n",
       "      <td>NaN</td>\n",
       "      <td>NaN</td>\n",
       "      <td>NaN</td>\n",
       "      <td>Yes</td>\n",
       "      <td>NaN</td>\n",
       "      <td>NaN</td>\n",
       "      <td>NaN</td>\n",
       "      <td>NaN</td>\n",
       "      <td>NaN</td>\n",
       "      <td>NaN</td>\n",
       "      <td>NaN</td>\n",
       "      <td>NaN</td>\n",
       "      <td>NaN</td>\n",
       "      <td>NaN</td>\n",
       "      <td>NaN</td>\n",
       "      <td>NaN</td>\n",
       "    </tr>\n",
       "  </tbody>\n",
       "</table>\n",
       "<p>5 rows × 141 columns</p>\n",
       "</div>"
      ],
      "text/plain": [
       "      Unnamed: 0           Make                    Model      Variant  \\\n",
       "1236        1236         Toyota                    Yaris    J (O) Cvt   \n",
       "256          256            NaN  Mercedes-Benz Cla-Class    200 Sport   \n",
       "572          572        Hyundai                    Verna  1.6 Vtvt Sx   \n",
       "539          539  Maruti Suzuki            Vitara Brezza          Vdi   \n",
       "87            87         Toyota               Etios Liva            G   \n",
       "\n",
       "     Ex-Showroom_Price Displacement  Cylinders  Valves_Per_Cylinder  \\\n",
       "1236      Rs. 9,35,000      1496 cc        4.0                  4.0   \n",
       "256      Rs. 35,99,000      1991 cc        4.0                  4.0   \n",
       "572       Rs. 9,99,900      1591 cc        4.0                  4.0   \n",
       "539       Rs. 8,14,742      1248 cc        4.0                  4.0   \n",
       "87        Rs. 5,20,300      1197 cc        4.0                  4.0   \n",
       "\n",
       "                   Drivetrain Cylinder_Configuration Emission_Norm  \\\n",
       "1236  FWD (Front Wheel Drive)                In-line         BS IV   \n",
       "256   FWD (Front Wheel Drive)                In-line         BS IV   \n",
       "572   FWD (Front Wheel Drive)                In-line         BS IV   \n",
       "539   FWD (Front Wheel Drive)                In-line         BS IV   \n",
       "87    FWD (Front Wheel Drive)                In-line         BS IV   \n",
       "\n",
       "          Engine_Location Fuel_System Fuel_Tank_Capacity Fuel_Type   Height  \\\n",
       "1236                  NaN   Injection          42 litres    Petrol  1495 mm   \n",
       "256     Front, Transverse   Injection          56 litres    Petrol  1432 mm   \n",
       "572     Front, Transverse   Injection          45 litres    Petrol  1445 mm   \n",
       "539   Front, Longitudinal   Injection          48 litres    Diesel  1640 mm   \n",
       "87      Front, Transverse   Injection          45 litres    Petrol  1510 mm   \n",
       "\n",
       "       Length    Width  Body_Type  Doors  ... Rear_Center_Armrest  \\\n",
       "1236  4425 mm  1730 mm      Sedan    4.0  ...         Cup Holders   \n",
       "256   4630 mm  1777 mm      Sedan    4.0  ...         Cup Holders   \n",
       "572   4440 mm  1729 mm      Sedan    4.0  ...         Cup Holders   \n",
       "539   3995 mm  1790 mm        SUV    5.0  ...                 NaN   \n",
       "87    3884 mm  1695 mm  Hatchback    5.0  ...                 NaN   \n",
       "\n",
       "     iPod_Compatibility ESP_(Electronic_Stability_Program) Cooled_Glove_Box  \\\n",
       "1236                NaN                                NaN              Yes   \n",
       "256                 Yes                                Yes              Yes   \n",
       "572                 NaN                                NaN              Yes   \n",
       "539                 NaN                                NaN              NaN   \n",
       "87                  NaN                                NaN              Yes   \n",
       "\n",
       "     Recommended_Tyre_Pressure Heated_Seats Turbocharger  \\\n",
       "1236                       NaN          NaN          NaN   \n",
       "256                        NaN          NaN          NaN   \n",
       "572                        NaN          NaN          NaN   \n",
       "539                        NaN          NaN          Yes   \n",
       "87                         NaN          NaN          NaN   \n",
       "\n",
       "     ISOFIX_(Child-Seat_Mount) Rain_Sensing_Wipers Paddle_Shifters  \\\n",
       "1236                       NaN                 NaN             NaN   \n",
       "256                        Yes                 Yes             Yes   \n",
       "572                        NaN                 NaN             NaN   \n",
       "539                        NaN                 NaN             NaN   \n",
       "87                         Yes                 NaN             NaN   \n",
       "\n",
       "     Leather_Wrapped_Steering Automatic_Headlamps Engine_Type  \\\n",
       "1236                      NaN                 NaN         NaN   \n",
       "256                       Yes                 Yes         NaN   \n",
       "572                       Yes                 Yes         NaN   \n",
       "539                       NaN                 NaN         NaN   \n",
       "87                        NaN                 NaN         NaN   \n",
       "\n",
       "     ASR_/_Traction_Control Cruise_Control USB_Ports Heads-Up_Display  \\\n",
       "1236                    NaN            NaN       NaN              NaN   \n",
       "256                     Yes            Yes       NaN              NaN   \n",
       "572                     NaN            Yes       NaN              NaN   \n",
       "539                     NaN            NaN       NaN              NaN   \n",
       "87                      NaN            NaN       NaN              NaN   \n",
       "\n",
       "     Welcome_Lights Battery Electric_Range  \n",
       "1236            NaN     NaN            NaN  \n",
       "256             NaN     NaN            NaN  \n",
       "572             NaN     NaN            NaN  \n",
       "539             NaN     NaN            NaN  \n",
       "87              NaN     NaN            NaN  \n",
       "\n",
       "[5 rows x 141 columns]"
      ]
     },
     "execution_count": 26,
     "metadata": {},
     "output_type": "execute_result"
    }
   ],
   "source": [
    "df.sample(5)"
   ]
  },
  {
   "cell_type": "code",
   "execution_count": 27,
   "id": "97689e3e",
   "metadata": {},
   "outputs": [
    {
     "data": {
      "application/vnd.plotly.v1+json": {
       "config": {
        "plotlyServerURL": "https://plot.ly"
       },
       "data": [
        {
         "alignmentgroup": "True",
         "hovertemplate": "x=%{x}<br>y=%{y}<extra></extra>",
         "legendgroup": "",
         "marker": {
          "color": "#636efa",
          "pattern": {
           "shape": ""
          }
         },
         "name": "",
         "offsetgroup": "",
         "orientation": "v",
         "showlegend": false,
         "textposition": "auto",
         "type": "bar",
         "x": [
          "Observations",
          "Makers",
          "Models",
          "Features"
         ],
         "xaxis": "x",
         "y": [
          1276,
          40,
          263,
          141
         ],
         "yaxis": "y"
        }
       ],
       "layout": {
        "barmode": "relative",
        "font": {
         "size": 16
        },
        "height": 400,
        "legend": {
         "tracegroupgap": 0
        },
        "margin": {
         "t": 60
        },
        "template": {
         "data": {
          "bar": [
           {
            "error_x": {
             "color": "#2a3f5f"
            },
            "error_y": {
             "color": "#2a3f5f"
            },
            "marker": {
             "line": {
              "color": "#E5ECF6",
              "width": 0.5
             },
             "pattern": {
              "fillmode": "overlay",
              "size": 10,
              "solidity": 0.2
             }
            },
            "type": "bar"
           }
          ],
          "barpolar": [
           {
            "marker": {
             "line": {
              "color": "#E5ECF6",
              "width": 0.5
             },
             "pattern": {
              "fillmode": "overlay",
              "size": 10,
              "solidity": 0.2
             }
            },
            "type": "barpolar"
           }
          ],
          "carpet": [
           {
            "aaxis": {
             "endlinecolor": "#2a3f5f",
             "gridcolor": "white",
             "linecolor": "white",
             "minorgridcolor": "white",
             "startlinecolor": "#2a3f5f"
            },
            "baxis": {
             "endlinecolor": "#2a3f5f",
             "gridcolor": "white",
             "linecolor": "white",
             "minorgridcolor": "white",
             "startlinecolor": "#2a3f5f"
            },
            "type": "carpet"
           }
          ],
          "choropleth": [
           {
            "colorbar": {
             "outlinewidth": 0,
             "ticks": ""
            },
            "type": "choropleth"
           }
          ],
          "contour": [
           {
            "colorbar": {
             "outlinewidth": 0,
             "ticks": ""
            },
            "colorscale": [
             [
              0,
              "#0d0887"
             ],
             [
              0.1111111111111111,
              "#46039f"
             ],
             [
              0.2222222222222222,
              "#7201a8"
             ],
             [
              0.3333333333333333,
              "#9c179e"
             ],
             [
              0.4444444444444444,
              "#bd3786"
             ],
             [
              0.5555555555555556,
              "#d8576b"
             ],
             [
              0.6666666666666666,
              "#ed7953"
             ],
             [
              0.7777777777777778,
              "#fb9f3a"
             ],
             [
              0.8888888888888888,
              "#fdca26"
             ],
             [
              1,
              "#f0f921"
             ]
            ],
            "type": "contour"
           }
          ],
          "contourcarpet": [
           {
            "colorbar": {
             "outlinewidth": 0,
             "ticks": ""
            },
            "type": "contourcarpet"
           }
          ],
          "heatmap": [
           {
            "colorbar": {
             "outlinewidth": 0,
             "ticks": ""
            },
            "colorscale": [
             [
              0,
              "#0d0887"
             ],
             [
              0.1111111111111111,
              "#46039f"
             ],
             [
              0.2222222222222222,
              "#7201a8"
             ],
             [
              0.3333333333333333,
              "#9c179e"
             ],
             [
              0.4444444444444444,
              "#bd3786"
             ],
             [
              0.5555555555555556,
              "#d8576b"
             ],
             [
              0.6666666666666666,
              "#ed7953"
             ],
             [
              0.7777777777777778,
              "#fb9f3a"
             ],
             [
              0.8888888888888888,
              "#fdca26"
             ],
             [
              1,
              "#f0f921"
             ]
            ],
            "type": "heatmap"
           }
          ],
          "heatmapgl": [
           {
            "colorbar": {
             "outlinewidth": 0,
             "ticks": ""
            },
            "colorscale": [
             [
              0,
              "#0d0887"
             ],
             [
              0.1111111111111111,
              "#46039f"
             ],
             [
              0.2222222222222222,
              "#7201a8"
             ],
             [
              0.3333333333333333,
              "#9c179e"
             ],
             [
              0.4444444444444444,
              "#bd3786"
             ],
             [
              0.5555555555555556,
              "#d8576b"
             ],
             [
              0.6666666666666666,
              "#ed7953"
             ],
             [
              0.7777777777777778,
              "#fb9f3a"
             ],
             [
              0.8888888888888888,
              "#fdca26"
             ],
             [
              1,
              "#f0f921"
             ]
            ],
            "type": "heatmapgl"
           }
          ],
          "histogram": [
           {
            "marker": {
             "pattern": {
              "fillmode": "overlay",
              "size": 10,
              "solidity": 0.2
             }
            },
            "type": "histogram"
           }
          ],
          "histogram2d": [
           {
            "colorbar": {
             "outlinewidth": 0,
             "ticks": ""
            },
            "colorscale": [
             [
              0,
              "#0d0887"
             ],
             [
              0.1111111111111111,
              "#46039f"
             ],
             [
              0.2222222222222222,
              "#7201a8"
             ],
             [
              0.3333333333333333,
              "#9c179e"
             ],
             [
              0.4444444444444444,
              "#bd3786"
             ],
             [
              0.5555555555555556,
              "#d8576b"
             ],
             [
              0.6666666666666666,
              "#ed7953"
             ],
             [
              0.7777777777777778,
              "#fb9f3a"
             ],
             [
              0.8888888888888888,
              "#fdca26"
             ],
             [
              1,
              "#f0f921"
             ]
            ],
            "type": "histogram2d"
           }
          ],
          "histogram2dcontour": [
           {
            "colorbar": {
             "outlinewidth": 0,
             "ticks": ""
            },
            "colorscale": [
             [
              0,
              "#0d0887"
             ],
             [
              0.1111111111111111,
              "#46039f"
             ],
             [
              0.2222222222222222,
              "#7201a8"
             ],
             [
              0.3333333333333333,
              "#9c179e"
             ],
             [
              0.4444444444444444,
              "#bd3786"
             ],
             [
              0.5555555555555556,
              "#d8576b"
             ],
             [
              0.6666666666666666,
              "#ed7953"
             ],
             [
              0.7777777777777778,
              "#fb9f3a"
             ],
             [
              0.8888888888888888,
              "#fdca26"
             ],
             [
              1,
              "#f0f921"
             ]
            ],
            "type": "histogram2dcontour"
           }
          ],
          "mesh3d": [
           {
            "colorbar": {
             "outlinewidth": 0,
             "ticks": ""
            },
            "type": "mesh3d"
           }
          ],
          "parcoords": [
           {
            "line": {
             "colorbar": {
              "outlinewidth": 0,
              "ticks": ""
             }
            },
            "type": "parcoords"
           }
          ],
          "pie": [
           {
            "automargin": true,
            "type": "pie"
           }
          ],
          "scatter": [
           {
            "fillpattern": {
             "fillmode": "overlay",
             "size": 10,
             "solidity": 0.2
            },
            "type": "scatter"
           }
          ],
          "scatter3d": [
           {
            "line": {
             "colorbar": {
              "outlinewidth": 0,
              "ticks": ""
             }
            },
            "marker": {
             "colorbar": {
              "outlinewidth": 0,
              "ticks": ""
             }
            },
            "type": "scatter3d"
           }
          ],
          "scattercarpet": [
           {
            "marker": {
             "colorbar": {
              "outlinewidth": 0,
              "ticks": ""
             }
            },
            "type": "scattercarpet"
           }
          ],
          "scattergeo": [
           {
            "marker": {
             "colorbar": {
              "outlinewidth": 0,
              "ticks": ""
             }
            },
            "type": "scattergeo"
           }
          ],
          "scattergl": [
           {
            "marker": {
             "colorbar": {
              "outlinewidth": 0,
              "ticks": ""
             }
            },
            "type": "scattergl"
           }
          ],
          "scattermapbox": [
           {
            "marker": {
             "colorbar": {
              "outlinewidth": 0,
              "ticks": ""
             }
            },
            "type": "scattermapbox"
           }
          ],
          "scatterpolar": [
           {
            "marker": {
             "colorbar": {
              "outlinewidth": 0,
              "ticks": ""
             }
            },
            "type": "scatterpolar"
           }
          ],
          "scatterpolargl": [
           {
            "marker": {
             "colorbar": {
              "outlinewidth": 0,
              "ticks": ""
             }
            },
            "type": "scatterpolargl"
           }
          ],
          "scatterternary": [
           {
            "marker": {
             "colorbar": {
              "outlinewidth": 0,
              "ticks": ""
             }
            },
            "type": "scatterternary"
           }
          ],
          "surface": [
           {
            "colorbar": {
             "outlinewidth": 0,
             "ticks": ""
            },
            "colorscale": [
             [
              0,
              "#0d0887"
             ],
             [
              0.1111111111111111,
              "#46039f"
             ],
             [
              0.2222222222222222,
              "#7201a8"
             ],
             [
              0.3333333333333333,
              "#9c179e"
             ],
             [
              0.4444444444444444,
              "#bd3786"
             ],
             [
              0.5555555555555556,
              "#d8576b"
             ],
             [
              0.6666666666666666,
              "#ed7953"
             ],
             [
              0.7777777777777778,
              "#fb9f3a"
             ],
             [
              0.8888888888888888,
              "#fdca26"
             ],
             [
              1,
              "#f0f921"
             ]
            ],
            "type": "surface"
           }
          ],
          "table": [
           {
            "cells": {
             "fill": {
              "color": "#EBF0F8"
             },
             "line": {
              "color": "white"
             }
            },
            "header": {
             "fill": {
              "color": "#C8D4E3"
             },
             "line": {
              "color": "white"
             }
            },
            "type": "table"
           }
          ]
         },
         "layout": {
          "annotationdefaults": {
           "arrowcolor": "#2a3f5f",
           "arrowhead": 0,
           "arrowwidth": 1
          },
          "autotypenumbers": "strict",
          "coloraxis": {
           "colorbar": {
            "outlinewidth": 0,
            "ticks": ""
           }
          },
          "colorscale": {
           "diverging": [
            [
             0,
             "#8e0152"
            ],
            [
             0.1,
             "#c51b7d"
            ],
            [
             0.2,
             "#de77ae"
            ],
            [
             0.3,
             "#f1b6da"
            ],
            [
             0.4,
             "#fde0ef"
            ],
            [
             0.5,
             "#f7f7f7"
            ],
            [
             0.6,
             "#e6f5d0"
            ],
            [
             0.7,
             "#b8e186"
            ],
            [
             0.8,
             "#7fbc41"
            ],
            [
             0.9,
             "#4d9221"
            ],
            [
             1,
             "#276419"
            ]
           ],
           "sequential": [
            [
             0,
             "#0d0887"
            ],
            [
             0.1111111111111111,
             "#46039f"
            ],
            [
             0.2222222222222222,
             "#7201a8"
            ],
            [
             0.3333333333333333,
             "#9c179e"
            ],
            [
             0.4444444444444444,
             "#bd3786"
            ],
            [
             0.5555555555555556,
             "#d8576b"
            ],
            [
             0.6666666666666666,
             "#ed7953"
            ],
            [
             0.7777777777777778,
             "#fb9f3a"
            ],
            [
             0.8888888888888888,
             "#fdca26"
            ],
            [
             1,
             "#f0f921"
            ]
           ],
           "sequentialminus": [
            [
             0,
             "#0d0887"
            ],
            [
             0.1111111111111111,
             "#46039f"
            ],
            [
             0.2222222222222222,
             "#7201a8"
            ],
            [
             0.3333333333333333,
             "#9c179e"
            ],
            [
             0.4444444444444444,
             "#bd3786"
            ],
            [
             0.5555555555555556,
             "#d8576b"
            ],
            [
             0.6666666666666666,
             "#ed7953"
            ],
            [
             0.7777777777777778,
             "#fb9f3a"
            ],
            [
             0.8888888888888888,
             "#fdca26"
            ],
            [
             1,
             "#f0f921"
            ]
           ]
          },
          "colorway": [
           "#636efa",
           "#EF553B",
           "#00cc96",
           "#ab63fa",
           "#FFA15A",
           "#19d3f3",
           "#FF6692",
           "#B6E880",
           "#FF97FF",
           "#FECB52"
          ],
          "font": {
           "color": "#2a3f5f"
          },
          "geo": {
           "bgcolor": "white",
           "lakecolor": "white",
           "landcolor": "#E5ECF6",
           "showlakes": true,
           "showland": true,
           "subunitcolor": "white"
          },
          "hoverlabel": {
           "align": "left"
          },
          "hovermode": "closest",
          "mapbox": {
           "style": "light"
          },
          "paper_bgcolor": "white",
          "plot_bgcolor": "#E5ECF6",
          "polar": {
           "angularaxis": {
            "gridcolor": "white",
            "linecolor": "white",
            "ticks": ""
           },
           "bgcolor": "#E5ECF6",
           "radialaxis": {
            "gridcolor": "white",
            "linecolor": "white",
            "ticks": ""
           }
          },
          "scene": {
           "xaxis": {
            "backgroundcolor": "#E5ECF6",
            "gridcolor": "white",
            "gridwidth": 2,
            "linecolor": "white",
            "showbackground": true,
            "ticks": "",
            "zerolinecolor": "white"
           },
           "yaxis": {
            "backgroundcolor": "#E5ECF6",
            "gridcolor": "white",
            "gridwidth": 2,
            "linecolor": "white",
            "showbackground": true,
            "ticks": "",
            "zerolinecolor": "white"
           },
           "zaxis": {
            "backgroundcolor": "#E5ECF6",
            "gridcolor": "white",
            "gridwidth": 2,
            "linecolor": "white",
            "showbackground": true,
            "ticks": "",
            "zerolinecolor": "white"
           }
          },
          "shapedefaults": {
           "line": {
            "color": "#2a3f5f"
           }
          },
          "ternary": {
           "aaxis": {
            "gridcolor": "white",
            "linecolor": "white",
            "ticks": ""
           },
           "baxis": {
            "gridcolor": "white",
            "linecolor": "white",
            "ticks": ""
           },
           "bgcolor": "#E5ECF6",
           "caxis": {
            "gridcolor": "white",
            "linecolor": "white",
            "ticks": ""
           }
          },
          "title": {
           "x": 0.05
          },
          "xaxis": {
           "automargin": true,
           "gridcolor": "white",
           "linecolor": "white",
           "ticks": "",
           "title": {
            "standoff": 15
           },
           "zerolinecolor": "white",
           "zerolinewidth": 2
          },
          "yaxis": {
           "automargin": true,
           "gridcolor": "white",
           "linecolor": "white",
           "ticks": "",
           "title": {
            "standoff": 15
           },
           "zerolinecolor": "white",
           "zerolinewidth": 2
          }
         }
        },
        "title": {
         "text": "Dataset Statistics"
        },
        "width": 800,
        "xaxis": {
         "anchor": "y",
         "domain": [
          0,
          1
         ],
         "title": {
          "text": ""
         }
        },
        "yaxis": {
         "anchor": "x",
         "domain": [
          0,
          1
         ],
         "title": {
          "text": "Count"
         }
        }
       }
      },
      "text/html": [
       "<div>                            <div id=\"4ac32cc9-250d-4cb7-8939-618c094c97d8\" class=\"plotly-graph-div\" style=\"height:400px; width:800px;\"></div>            <script type=\"text/javascript\">                require([\"plotly\"], function(Plotly) {                    window.PLOTLYENV=window.PLOTLYENV || {};                                    if (document.getElementById(\"4ac32cc9-250d-4cb7-8939-618c094c97d8\")) {                    Plotly.newPlot(                        \"4ac32cc9-250d-4cb7-8939-618c094c97d8\",                        [{\"alignmentgroup\":\"True\",\"hovertemplate\":\"x=%{x}<br>y=%{y}<extra></extra>\",\"legendgroup\":\"\",\"marker\":{\"color\":\"#636efa\",\"pattern\":{\"shape\":\"\"}},\"name\":\"\",\"offsetgroup\":\"\",\"orientation\":\"v\",\"showlegend\":false,\"textposition\":\"auto\",\"x\":[\"Observations\",\"Makers\",\"Models\",\"Features\"],\"xaxis\":\"x\",\"y\":[1276,40,263,141],\"yaxis\":\"y\",\"type\":\"bar\"}],                        {\"template\":{\"data\":{\"histogram2dcontour\":[{\"type\":\"histogram2dcontour\",\"colorbar\":{\"outlinewidth\":0,\"ticks\":\"\"},\"colorscale\":[[0.0,\"#0d0887\"],[0.1111111111111111,\"#46039f\"],[0.2222222222222222,\"#7201a8\"],[0.3333333333333333,\"#9c179e\"],[0.4444444444444444,\"#bd3786\"],[0.5555555555555556,\"#d8576b\"],[0.6666666666666666,\"#ed7953\"],[0.7777777777777778,\"#fb9f3a\"],[0.8888888888888888,\"#fdca26\"],[1.0,\"#f0f921\"]]}],\"choropleth\":[{\"type\":\"choropleth\",\"colorbar\":{\"outlinewidth\":0,\"ticks\":\"\"}}],\"histogram2d\":[{\"type\":\"histogram2d\",\"colorbar\":{\"outlinewidth\":0,\"ticks\":\"\"},\"colorscale\":[[0.0,\"#0d0887\"],[0.1111111111111111,\"#46039f\"],[0.2222222222222222,\"#7201a8\"],[0.3333333333333333,\"#9c179e\"],[0.4444444444444444,\"#bd3786\"],[0.5555555555555556,\"#d8576b\"],[0.6666666666666666,\"#ed7953\"],[0.7777777777777778,\"#fb9f3a\"],[0.8888888888888888,\"#fdca26\"],[1.0,\"#f0f921\"]]}],\"heatmap\":[{\"type\":\"heatmap\",\"colorbar\":{\"outlinewidth\":0,\"ticks\":\"\"},\"colorscale\":[[0.0,\"#0d0887\"],[0.1111111111111111,\"#46039f\"],[0.2222222222222222,\"#7201a8\"],[0.3333333333333333,\"#9c179e\"],[0.4444444444444444,\"#bd3786\"],[0.5555555555555556,\"#d8576b\"],[0.6666666666666666,\"#ed7953\"],[0.7777777777777778,\"#fb9f3a\"],[0.8888888888888888,\"#fdca26\"],[1.0,\"#f0f921\"]]}],\"heatmapgl\":[{\"type\":\"heatmapgl\",\"colorbar\":{\"outlinewidth\":0,\"ticks\":\"\"},\"colorscale\":[[0.0,\"#0d0887\"],[0.1111111111111111,\"#46039f\"],[0.2222222222222222,\"#7201a8\"],[0.3333333333333333,\"#9c179e\"],[0.4444444444444444,\"#bd3786\"],[0.5555555555555556,\"#d8576b\"],[0.6666666666666666,\"#ed7953\"],[0.7777777777777778,\"#fb9f3a\"],[0.8888888888888888,\"#fdca26\"],[1.0,\"#f0f921\"]]}],\"contourcarpet\":[{\"type\":\"contourcarpet\",\"colorbar\":{\"outlinewidth\":0,\"ticks\":\"\"}}],\"contour\":[{\"type\":\"contour\",\"colorbar\":{\"outlinewidth\":0,\"ticks\":\"\"},\"colorscale\":[[0.0,\"#0d0887\"],[0.1111111111111111,\"#46039f\"],[0.2222222222222222,\"#7201a8\"],[0.3333333333333333,\"#9c179e\"],[0.4444444444444444,\"#bd3786\"],[0.5555555555555556,\"#d8576b\"],[0.6666666666666666,\"#ed7953\"],[0.7777777777777778,\"#fb9f3a\"],[0.8888888888888888,\"#fdca26\"],[1.0,\"#f0f921\"]]}],\"surface\":[{\"type\":\"surface\",\"colorbar\":{\"outlinewidth\":0,\"ticks\":\"\"},\"colorscale\":[[0.0,\"#0d0887\"],[0.1111111111111111,\"#46039f\"],[0.2222222222222222,\"#7201a8\"],[0.3333333333333333,\"#9c179e\"],[0.4444444444444444,\"#bd3786\"],[0.5555555555555556,\"#d8576b\"],[0.6666666666666666,\"#ed7953\"],[0.7777777777777778,\"#fb9f3a\"],[0.8888888888888888,\"#fdca26\"],[1.0,\"#f0f921\"]]}],\"mesh3d\":[{\"type\":\"mesh3d\",\"colorbar\":{\"outlinewidth\":0,\"ticks\":\"\"}}],\"scatter\":[{\"fillpattern\":{\"fillmode\":\"overlay\",\"size\":10,\"solidity\":0.2},\"type\":\"scatter\"}],\"parcoords\":[{\"type\":\"parcoords\",\"line\":{\"colorbar\":{\"outlinewidth\":0,\"ticks\":\"\"}}}],\"scatterpolargl\":[{\"type\":\"scatterpolargl\",\"marker\":{\"colorbar\":{\"outlinewidth\":0,\"ticks\":\"\"}}}],\"bar\":[{\"error_x\":{\"color\":\"#2a3f5f\"},\"error_y\":{\"color\":\"#2a3f5f\"},\"marker\":{\"line\":{\"color\":\"#E5ECF6\",\"width\":0.5},\"pattern\":{\"fillmode\":\"overlay\",\"size\":10,\"solidity\":0.2}},\"type\":\"bar\"}],\"scattergeo\":[{\"type\":\"scattergeo\",\"marker\":{\"colorbar\":{\"outlinewidth\":0,\"ticks\":\"\"}}}],\"scatterpolar\":[{\"type\":\"scatterpolar\",\"marker\":{\"colorbar\":{\"outlinewidth\":0,\"ticks\":\"\"}}}],\"histogram\":[{\"marker\":{\"pattern\":{\"fillmode\":\"overlay\",\"size\":10,\"solidity\":0.2}},\"type\":\"histogram\"}],\"scattergl\":[{\"type\":\"scattergl\",\"marker\":{\"colorbar\":{\"outlinewidth\":0,\"ticks\":\"\"}}}],\"scatter3d\":[{\"type\":\"scatter3d\",\"line\":{\"colorbar\":{\"outlinewidth\":0,\"ticks\":\"\"}},\"marker\":{\"colorbar\":{\"outlinewidth\":0,\"ticks\":\"\"}}}],\"scattermapbox\":[{\"type\":\"scattermapbox\",\"marker\":{\"colorbar\":{\"outlinewidth\":0,\"ticks\":\"\"}}}],\"scatterternary\":[{\"type\":\"scatterternary\",\"marker\":{\"colorbar\":{\"outlinewidth\":0,\"ticks\":\"\"}}}],\"scattercarpet\":[{\"type\":\"scattercarpet\",\"marker\":{\"colorbar\":{\"outlinewidth\":0,\"ticks\":\"\"}}}],\"carpet\":[{\"aaxis\":{\"endlinecolor\":\"#2a3f5f\",\"gridcolor\":\"white\",\"linecolor\":\"white\",\"minorgridcolor\":\"white\",\"startlinecolor\":\"#2a3f5f\"},\"baxis\":{\"endlinecolor\":\"#2a3f5f\",\"gridcolor\":\"white\",\"linecolor\":\"white\",\"minorgridcolor\":\"white\",\"startlinecolor\":\"#2a3f5f\"},\"type\":\"carpet\"}],\"table\":[{\"cells\":{\"fill\":{\"color\":\"#EBF0F8\"},\"line\":{\"color\":\"white\"}},\"header\":{\"fill\":{\"color\":\"#C8D4E3\"},\"line\":{\"color\":\"white\"}},\"type\":\"table\"}],\"barpolar\":[{\"marker\":{\"line\":{\"color\":\"#E5ECF6\",\"width\":0.5},\"pattern\":{\"fillmode\":\"overlay\",\"size\":10,\"solidity\":0.2}},\"type\":\"barpolar\"}],\"pie\":[{\"automargin\":true,\"type\":\"pie\"}]},\"layout\":{\"autotypenumbers\":\"strict\",\"colorway\":[\"#636efa\",\"#EF553B\",\"#00cc96\",\"#ab63fa\",\"#FFA15A\",\"#19d3f3\",\"#FF6692\",\"#B6E880\",\"#FF97FF\",\"#FECB52\"],\"font\":{\"color\":\"#2a3f5f\"},\"hovermode\":\"closest\",\"hoverlabel\":{\"align\":\"left\"},\"paper_bgcolor\":\"white\",\"plot_bgcolor\":\"#E5ECF6\",\"polar\":{\"bgcolor\":\"#E5ECF6\",\"angularaxis\":{\"gridcolor\":\"white\",\"linecolor\":\"white\",\"ticks\":\"\"},\"radialaxis\":{\"gridcolor\":\"white\",\"linecolor\":\"white\",\"ticks\":\"\"}},\"ternary\":{\"bgcolor\":\"#E5ECF6\",\"aaxis\":{\"gridcolor\":\"white\",\"linecolor\":\"white\",\"ticks\":\"\"},\"baxis\":{\"gridcolor\":\"white\",\"linecolor\":\"white\",\"ticks\":\"\"},\"caxis\":{\"gridcolor\":\"white\",\"linecolor\":\"white\",\"ticks\":\"\"}},\"coloraxis\":{\"colorbar\":{\"outlinewidth\":0,\"ticks\":\"\"}},\"colorscale\":{\"sequential\":[[0.0,\"#0d0887\"],[0.1111111111111111,\"#46039f\"],[0.2222222222222222,\"#7201a8\"],[0.3333333333333333,\"#9c179e\"],[0.4444444444444444,\"#bd3786\"],[0.5555555555555556,\"#d8576b\"],[0.6666666666666666,\"#ed7953\"],[0.7777777777777778,\"#fb9f3a\"],[0.8888888888888888,\"#fdca26\"],[1.0,\"#f0f921\"]],\"sequentialminus\":[[0.0,\"#0d0887\"],[0.1111111111111111,\"#46039f\"],[0.2222222222222222,\"#7201a8\"],[0.3333333333333333,\"#9c179e\"],[0.4444444444444444,\"#bd3786\"],[0.5555555555555556,\"#d8576b\"],[0.6666666666666666,\"#ed7953\"],[0.7777777777777778,\"#fb9f3a\"],[0.8888888888888888,\"#fdca26\"],[1.0,\"#f0f921\"]],\"diverging\":[[0,\"#8e0152\"],[0.1,\"#c51b7d\"],[0.2,\"#de77ae\"],[0.3,\"#f1b6da\"],[0.4,\"#fde0ef\"],[0.5,\"#f7f7f7\"],[0.6,\"#e6f5d0\"],[0.7,\"#b8e186\"],[0.8,\"#7fbc41\"],[0.9,\"#4d9221\"],[1,\"#276419\"]]},\"xaxis\":{\"gridcolor\":\"white\",\"linecolor\":\"white\",\"ticks\":\"\",\"title\":{\"standoff\":15},\"zerolinecolor\":\"white\",\"automargin\":true,\"zerolinewidth\":2},\"yaxis\":{\"gridcolor\":\"white\",\"linecolor\":\"white\",\"ticks\":\"\",\"title\":{\"standoff\":15},\"zerolinecolor\":\"white\",\"automargin\":true,\"zerolinewidth\":2},\"scene\":{\"xaxis\":{\"backgroundcolor\":\"#E5ECF6\",\"gridcolor\":\"white\",\"linecolor\":\"white\",\"showbackground\":true,\"ticks\":\"\",\"zerolinecolor\":\"white\",\"gridwidth\":2},\"yaxis\":{\"backgroundcolor\":\"#E5ECF6\",\"gridcolor\":\"white\",\"linecolor\":\"white\",\"showbackground\":true,\"ticks\":\"\",\"zerolinecolor\":\"white\",\"gridwidth\":2},\"zaxis\":{\"backgroundcolor\":\"#E5ECF6\",\"gridcolor\":\"white\",\"linecolor\":\"white\",\"showbackground\":true,\"ticks\":\"\",\"zerolinecolor\":\"white\",\"gridwidth\":2}},\"shapedefaults\":{\"line\":{\"color\":\"#2a3f5f\"}},\"annotationdefaults\":{\"arrowcolor\":\"#2a3f5f\",\"arrowhead\":0,\"arrowwidth\":1},\"geo\":{\"bgcolor\":\"white\",\"landcolor\":\"#E5ECF6\",\"subunitcolor\":\"white\",\"showland\":true,\"showlakes\":true,\"lakecolor\":\"white\"},\"title\":{\"x\":0.05},\"mapbox\":{\"style\":\"light\"}}},\"xaxis\":{\"anchor\":\"y\",\"domain\":[0.0,1.0],\"title\":{\"text\":\"\"}},\"yaxis\":{\"anchor\":\"x\",\"domain\":[0.0,1.0],\"title\":{\"text\":\"Count\"}},\"legend\":{\"tracegroupgap\":0},\"margin\":{\"t\":60},\"barmode\":\"relative\",\"height\":400,\"width\":800,\"font\":{\"size\":16},\"title\":{\"text\":\"Dataset Statistics\"}},                        {\"responsive\": true}                    ).then(function(){\n",
       "                            \n",
       "var gd = document.getElementById('4ac32cc9-250d-4cb7-8939-618c094c97d8');\n",
       "var x = new MutationObserver(function (mutations, observer) {{\n",
       "        var display = window.getComputedStyle(gd).display;\n",
       "        if (!display || display === 'none') {{\n",
       "            console.log([gd, 'removed!']);\n",
       "            Plotly.purge(gd);\n",
       "            observer.disconnect();\n",
       "        }}\n",
       "}});\n",
       "\n",
       "// Listen for the removal of the full notebook cells\n",
       "var notebookContainer = gd.closest('#notebook-container');\n",
       "if (notebookContainer) {{\n",
       "    x.observe(notebookContainer, {childList: true});\n",
       "}}\n",
       "\n",
       "// Listen for the clearing of the current output cell\n",
       "var outputEl = gd.closest('.output');\n",
       "if (outputEl) {{\n",
       "    x.observe(outputEl, {childList: true});\n",
       "}}\n",
       "\n",
       "                        })                };                });            </script>        </div>"
      ]
     },
     "metadata": {},
     "output_type": "display_data"
    }
   ],
   "source": [
    "l_D = len(df)\n",
    "c_m = len(df.Make.unique())\n",
    "c_c = len(df.Model.unique())\n",
    "n_f = len(df.columns)\n",
    "fig = px.bar(x=['Observations',\"Makers\",'Models','Features'],y=[l_D,c_m,c_c,n_f], width=800,height=400)\n",
    "fig.update_layout(\n",
    "    title=\"Dataset Statistics\",\n",
    "    xaxis_title=\"\",\n",
    "    yaxis_title=\"Count\",\n",
    "    font=dict(\n",
    "        size=16,\n",
    "    )\n",
    ")\n",
    "\n",
    "fig.show()"
   ]
  },
  {
   "cell_type": "code",
   "execution_count": 28,
   "id": "113ab69f",
   "metadata": {},
   "outputs": [],
   "source": [
    "df['car_name'] = df.Make + ' ' + df.Model\n",
    "c = ['Make','Model','car_name','Variant','Body_Type','Fuel_Type','Fuel_System','Type','Drivetrain','Ex-Showroom_Price','Displacement','Cylinders',\n",
    "     'ARAI_Certified_Mileage','Power','Torque','Fuel_Tank_Capacity','Height','Length','Width','Doors','Seating_Capacity','Wheelbase','Number_of_Airbags']\n",
    "df_full = df.copy()\n",
    "\n",
    "df['Ex-Showroom_Price'] = df['Ex-Showroom_Price'].str.replace('Rs. ','',regex=False)\n",
    "df['Ex-Showroom_Price'] = df['Ex-Showroom_Price'].str.replace(',','',regex=False)\n",
    "df['Ex-Showroom_Price'] = df['Ex-Showroom_Price'].astype(int)\n",
    "df = df[c]\n",
    "df = df[~df.ARAI_Certified_Mileage.isnull()]\n",
    "df = df[~df.Make.isnull()]\n",
    "df = df[~df.Width.isnull()]\n",
    "df = df[~df.Cylinders.isnull()]\n",
    "df = df[~df.Wheelbase.isnull()]\n",
    "df = df[~df['Fuel_Tank_Capacity'].isnull()]\n",
    "df = df[~df['Seating_Capacity'].isnull()]\n",
    "df = df[~df['Torque'].isnull()]\n",
    "df['Height'] = df['Height'].str.replace(' mm','',regex=False).astype(float)\n",
    "df['Length'] = df['Length'].str.replace(' mm','',regex=False).astype(float)\n",
    "df['Width'] = df['Width'].str.replace(' mm','',regex=False).astype(float)\n",
    "df['Wheelbase'] = df['Wheelbase'].str.replace(' mm','',regex=False).astype(float)\n",
    "df['Fuel_Tank_Capacity'] = df['Fuel_Tank_Capacity'].str.replace(' litres','',regex=False).astype(float)\n",
    "df['Displacement'] = df['Displacement'].str.replace(' cc','',regex=False)\n",
    "df.loc[df.ARAI_Certified_Mileage == '9.8-10.0 km/litre','ARAI_Certified_Mileage'] = '10'\n",
    "df.loc[df.ARAI_Certified_Mileage == '10kmpl km/litre','ARAI_Certified_Mileage'] = '10'\n",
    "df['ARAI_Certified_Mileage'] = df['ARAI_Certified_Mileage'].str.replace(' km/litre','',regex=False).astype(float)\n",
    "df.Number_of_Airbags.fillna(0,inplace= True)\n",
    "df['price'] = df['Ex-Showroom_Price'] * 0.014\n",
    "df.drop(columns='Ex-Showroom_Price', inplace= True)\n",
    "df.price = df.price.astype(int)\n",
    "HP = df.Power.str.extract(r'(\\d{1,4}).*').astype(int) * 0.98632\n",
    "HP = HP.apply(lambda x: round(x,2))\n",
    "TQ = df.Torque.str.extract(r'(\\d{1,4}).*').astype(int)\n",
    "TQ = TQ.apply(lambda x: round(x,2))\n",
    "df.Torque = TQ\n",
    "df.Power = HP\n",
    "df.Doors = df.Doors.astype(int)\n",
    "df.Seating_Capacity = df.Seating_Capacity.astype(int)\n",
    "df.Number_of_Airbags = df.Number_of_Airbags.astype(int)\n",
    "df.Displacement = df.Displacement.astype(int)\n",
    "df.Cylinders = df.Cylinders.astype(int)\n",
    "df.columns = ['make', 'model','car_name', 'variant', 'body_type', 'fuel_type', 'fuel_system','type', 'drivetrain', 'displacement', 'cylinders',\n",
    "              'mileage', 'power', 'torque', 'fuel_tank','height', 'length', 'width', 'doors', 'seats', 'wheelbase','airbags', 'price']"
   ]
  },
  {
   "cell_type": "code",
   "execution_count": 29,
   "id": "7690d92f",
   "metadata": {},
   "outputs": [
    {
     "data": {
      "text/html": [
       "<div>\n",
       "<style scoped>\n",
       "    .dataframe tbody tr th:only-of-type {\n",
       "        vertical-align: middle;\n",
       "    }\n",
       "\n",
       "    .dataframe tbody tr th {\n",
       "        vertical-align: top;\n",
       "    }\n",
       "\n",
       "    .dataframe thead th {\n",
       "        text-align: right;\n",
       "    }\n",
       "</style>\n",
       "<table border=\"1\" class=\"dataframe\">\n",
       "  <thead>\n",
       "    <tr style=\"text-align: right;\">\n",
       "      <th></th>\n",
       "      <th>make</th>\n",
       "      <th>model</th>\n",
       "      <th>car_name</th>\n",
       "      <th>variant</th>\n",
       "      <th>body_type</th>\n",
       "      <th>fuel_type</th>\n",
       "      <th>fuel_system</th>\n",
       "      <th>type</th>\n",
       "      <th>drivetrain</th>\n",
       "      <th>displacement</th>\n",
       "      <th>cylinders</th>\n",
       "      <th>mileage</th>\n",
       "      <th>power</th>\n",
       "      <th>torque</th>\n",
       "      <th>fuel_tank</th>\n",
       "      <th>height</th>\n",
       "      <th>length</th>\n",
       "      <th>width</th>\n",
       "      <th>doors</th>\n",
       "      <th>seats</th>\n",
       "      <th>wheelbase</th>\n",
       "      <th>airbags</th>\n",
       "      <th>price</th>\n",
       "    </tr>\n",
       "  </thead>\n",
       "  <tbody>\n",
       "    <tr>\n",
       "      <th>1249</th>\n",
       "      <td>Skoda</td>\n",
       "      <td>Octavia</td>\n",
       "      <td>Skoda Octavia</td>\n",
       "      <td>Onyx 1.8 Tsi Dsg</td>\n",
       "      <td>Sedan</td>\n",
       "      <td>Petrol</td>\n",
       "      <td>Injection</td>\n",
       "      <td>Automatic</td>\n",
       "      <td>FWD (Front Wheel Drive)</td>\n",
       "      <td>1798</td>\n",
       "      <td>4</td>\n",
       "      <td>15.10</td>\n",
       "      <td>177.54</td>\n",
       "      <td>250</td>\n",
       "      <td>50.0</td>\n",
       "      <td>1476.0</td>\n",
       "      <td>4670.0</td>\n",
       "      <td>1814.0</td>\n",
       "      <td>4</td>\n",
       "      <td>5</td>\n",
       "      <td>2688.0</td>\n",
       "      <td>6</td>\n",
       "      <td>27994</td>\n",
       "    </tr>\n",
       "    <tr>\n",
       "      <th>342</th>\n",
       "      <td>Lamborghini</td>\n",
       "      <td>Urus</td>\n",
       "      <td>Lamborghini Urus</td>\n",
       "      <td>V8</td>\n",
       "      <td>SUV</td>\n",
       "      <td>Petrol</td>\n",
       "      <td>Injection</td>\n",
       "      <td>Automatic</td>\n",
       "      <td>AWD (All Wheel Drive)</td>\n",
       "      <td>3996</td>\n",
       "      <td>8</td>\n",
       "      <td>7.80</td>\n",
       "      <td>641.11</td>\n",
       "      <td>850</td>\n",
       "      <td>75.0</td>\n",
       "      <td>1638.0</td>\n",
       "      <td>5112.0</td>\n",
       "      <td>2181.0</td>\n",
       "      <td>5</td>\n",
       "      <td>5</td>\n",
       "      <td>3003.0</td>\n",
       "      <td>8</td>\n",
       "      <td>420000</td>\n",
       "    </tr>\n",
       "    <tr>\n",
       "      <th>646</th>\n",
       "      <td>Mahindra</td>\n",
       "      <td>Marazzo</td>\n",
       "      <td>Mahindra Marazzo</td>\n",
       "      <td>M4 7 Str</td>\n",
       "      <td>MPV</td>\n",
       "      <td>Diesel</td>\n",
       "      <td>Injection</td>\n",
       "      <td>Manual</td>\n",
       "      <td>FWD (Front Wheel Drive)</td>\n",
       "      <td>1497</td>\n",
       "      <td>4</td>\n",
       "      <td>17.30</td>\n",
       "      <td>119.34</td>\n",
       "      <td>300</td>\n",
       "      <td>45.0</td>\n",
       "      <td>1774.0</td>\n",
       "      <td>4585.0</td>\n",
       "      <td>1866.0</td>\n",
       "      <td>5</td>\n",
       "      <td>7</td>\n",
       "      <td>2760.0</td>\n",
       "      <td>2</td>\n",
       "      <td>16190</td>\n",
       "    </tr>\n",
       "    <tr>\n",
       "      <th>672</th>\n",
       "      <td>Mahindra</td>\n",
       "      <td>Xuv500</td>\n",
       "      <td>Mahindra Xuv500</td>\n",
       "      <td>W11 At</td>\n",
       "      <td>SUV</td>\n",
       "      <td>Diesel</td>\n",
       "      <td>Injection</td>\n",
       "      <td>Automatic</td>\n",
       "      <td>FWD (Front Wheel Drive)</td>\n",
       "      <td>2179</td>\n",
       "      <td>4</td>\n",
       "      <td>16.00</td>\n",
       "      <td>152.88</td>\n",
       "      <td>330</td>\n",
       "      <td>70.0</td>\n",
       "      <td>1785.0</td>\n",
       "      <td>4585.0</td>\n",
       "      <td>1890.0</td>\n",
       "      <td>5</td>\n",
       "      <td>7</td>\n",
       "      <td>2700.0</td>\n",
       "      <td>6</td>\n",
       "      <td>25726</td>\n",
       "    </tr>\n",
       "    <tr>\n",
       "      <th>967</th>\n",
       "      <td>Mahindra</td>\n",
       "      <td>Xylo</td>\n",
       "      <td>Mahindra Xylo</td>\n",
       "      <td>H4 Abs Bs-Iv</td>\n",
       "      <td>SUV</td>\n",
       "      <td>Diesel</td>\n",
       "      <td>Injection</td>\n",
       "      <td>Manual</td>\n",
       "      <td>FWD (Front Wheel Drive)</td>\n",
       "      <td>2179</td>\n",
       "      <td>4</td>\n",
       "      <td>14.02</td>\n",
       "      <td>118.36</td>\n",
       "      <td>280</td>\n",
       "      <td>55.0</td>\n",
       "      <td>1895.0</td>\n",
       "      <td>4520.0</td>\n",
       "      <td>1850.0</td>\n",
       "      <td>5</td>\n",
       "      <td>7</td>\n",
       "      <td>2760.0</td>\n",
       "      <td>0</td>\n",
       "      <td>14925</td>\n",
       "    </tr>\n",
       "  </tbody>\n",
       "</table>\n",
       "</div>"
      ],
      "text/plain": [
       "             make    model          car_name           variant body_type  \\\n",
       "1249        Skoda  Octavia     Skoda Octavia  Onyx 1.8 Tsi Dsg     Sedan   \n",
       "342   Lamborghini     Urus  Lamborghini Urus                V8       SUV   \n",
       "646      Mahindra  Marazzo  Mahindra Marazzo          M4 7 Str       MPV   \n",
       "672      Mahindra   Xuv500   Mahindra Xuv500            W11 At       SUV   \n",
       "967      Mahindra     Xylo     Mahindra Xylo      H4 Abs Bs-Iv       SUV   \n",
       "\n",
       "     fuel_type fuel_system       type               drivetrain  displacement  \\\n",
       "1249    Petrol   Injection  Automatic  FWD (Front Wheel Drive)          1798   \n",
       "342     Petrol   Injection  Automatic    AWD (All Wheel Drive)          3996   \n",
       "646     Diesel   Injection     Manual  FWD (Front Wheel Drive)          1497   \n",
       "672     Diesel   Injection  Automatic  FWD (Front Wheel Drive)          2179   \n",
       "967     Diesel   Injection     Manual  FWD (Front Wheel Drive)          2179   \n",
       "\n",
       "      cylinders  mileage   power  torque  fuel_tank  height  length   width  \\\n",
       "1249          4    15.10  177.54     250       50.0  1476.0  4670.0  1814.0   \n",
       "342           8     7.80  641.11     850       75.0  1638.0  5112.0  2181.0   \n",
       "646           4    17.30  119.34     300       45.0  1774.0  4585.0  1866.0   \n",
       "672           4    16.00  152.88     330       70.0  1785.0  4585.0  1890.0   \n",
       "967           4    14.02  118.36     280       55.0  1895.0  4520.0  1850.0   \n",
       "\n",
       "      doors  seats  wheelbase  airbags   price  \n",
       "1249      4      5     2688.0        6   27994  \n",
       "342       5      5     3003.0        8  420000  \n",
       "646       5      7     2760.0        2   16190  \n",
       "672       5      7     2700.0        6   25726  \n",
       "967       5      7     2760.0        0   14925  "
      ]
     },
     "execution_count": 29,
     "metadata": {},
     "output_type": "execute_result"
    }
   ],
   "source": [
    "df.sample(5)"
   ]
  },
  {
   "cell_type": "code",
   "execution_count": 30,
   "id": "bd7c734b",
   "metadata": {},
   "outputs": [
    {
     "data": {
      "text/html": [
       "<div>\n",
       "<style scoped>\n",
       "    .dataframe tbody tr th:only-of-type {\n",
       "        vertical-align: middle;\n",
       "    }\n",
       "\n",
       "    .dataframe tbody tr th {\n",
       "        vertical-align: top;\n",
       "    }\n",
       "\n",
       "    .dataframe thead th {\n",
       "        text-align: right;\n",
       "    }\n",
       "</style>\n",
       "<table border=\"1\" class=\"dataframe\">\n",
       "  <thead>\n",
       "    <tr style=\"text-align: right;\">\n",
       "      <th></th>\n",
       "      <th>make</th>\n",
       "      <th>model</th>\n",
       "      <th>car_name</th>\n",
       "      <th>variant</th>\n",
       "      <th>body_type</th>\n",
       "      <th>fuel_type</th>\n",
       "      <th>fuel_system</th>\n",
       "      <th>type</th>\n",
       "      <th>drivetrain</th>\n",
       "      <th>displacement</th>\n",
       "      <th>cylinders</th>\n",
       "      <th>mileage</th>\n",
       "      <th>power</th>\n",
       "      <th>torque</th>\n",
       "      <th>fuel_tank</th>\n",
       "      <th>height</th>\n",
       "      <th>length</th>\n",
       "      <th>width</th>\n",
       "      <th>doors</th>\n",
       "      <th>seats</th>\n",
       "      <th>wheelbase</th>\n",
       "      <th>airbags</th>\n",
       "      <th>price</th>\n",
       "    </tr>\n",
       "  </thead>\n",
       "  <tbody>\n",
       "    <tr>\n",
       "      <th>734</th>\n",
       "      <td>Toyota</td>\n",
       "      <td>Corolla Altis</td>\n",
       "      <td>Toyota Corolla Altis</td>\n",
       "      <td>G Petrol</td>\n",
       "      <td>Sedan</td>\n",
       "      <td>Petrol</td>\n",
       "      <td>Injection</td>\n",
       "      <td>Manual</td>\n",
       "      <td>FWD (Front Wheel Drive)</td>\n",
       "      <td>1798</td>\n",
       "      <td>4</td>\n",
       "      <td>16.7</td>\n",
       "      <td>138.08</td>\n",
       "      <td>173</td>\n",
       "      <td>55.0</td>\n",
       "      <td>1475.0</td>\n",
       "      <td>4620.0</td>\n",
       "      <td>1775.0</td>\n",
       "      <td>4</td>\n",
       "      <td>5</td>\n",
       "      <td>2700.0</td>\n",
       "      <td>3</td>\n",
       "      <td>23030</td>\n",
       "    </tr>\n",
       "    <tr>\n",
       "      <th>735</th>\n",
       "      <td>Toyota</td>\n",
       "      <td>Corolla Altis</td>\n",
       "      <td>Toyota Corolla Altis</td>\n",
       "      <td>G At Petrol</td>\n",
       "      <td>Sedan</td>\n",
       "      <td>Petrol</td>\n",
       "      <td>Injection</td>\n",
       "      <td>Automatic</td>\n",
       "      <td>FWD (Front Wheel Drive)</td>\n",
       "      <td>1798</td>\n",
       "      <td>4</td>\n",
       "      <td>16.7</td>\n",
       "      <td>138.08</td>\n",
       "      <td>173</td>\n",
       "      <td>55.0</td>\n",
       "      <td>1475.0</td>\n",
       "      <td>4620.0</td>\n",
       "      <td>1775.0</td>\n",
       "      <td>4</td>\n",
       "      <td>5</td>\n",
       "      <td>2700.0</td>\n",
       "      <td>3</td>\n",
       "      <td>25284</td>\n",
       "    </tr>\n",
       "    <tr>\n",
       "      <th>736</th>\n",
       "      <td>Toyota</td>\n",
       "      <td>Corolla Altis</td>\n",
       "      <td>Toyota Corolla Altis</td>\n",
       "      <td>Gl Petrol</td>\n",
       "      <td>Sedan</td>\n",
       "      <td>Petrol</td>\n",
       "      <td>Injection</td>\n",
       "      <td>Manual</td>\n",
       "      <td>FWD (Front Wheel Drive)</td>\n",
       "      <td>1798</td>\n",
       "      <td>4</td>\n",
       "      <td>16.7</td>\n",
       "      <td>138.08</td>\n",
       "      <td>173</td>\n",
       "      <td>55.0</td>\n",
       "      <td>1475.0</td>\n",
       "      <td>4620.0</td>\n",
       "      <td>1775.0</td>\n",
       "      <td>4</td>\n",
       "      <td>5</td>\n",
       "      <td>2700.0</td>\n",
       "      <td>7</td>\n",
       "      <td>26348</td>\n",
       "    </tr>\n",
       "    <tr>\n",
       "      <th>737</th>\n",
       "      <td>Toyota</td>\n",
       "      <td>Corolla Altis</td>\n",
       "      <td>Toyota Corolla Altis</td>\n",
       "      <td>Gl Diesel</td>\n",
       "      <td>Sedan</td>\n",
       "      <td>Diesel</td>\n",
       "      <td>Injection</td>\n",
       "      <td>Manual</td>\n",
       "      <td>FWD (Front Wheel Drive)</td>\n",
       "      <td>1364</td>\n",
       "      <td>4</td>\n",
       "      <td>21.0</td>\n",
       "      <td>86.80</td>\n",
       "      <td>205</td>\n",
       "      <td>43.0</td>\n",
       "      <td>1475.0</td>\n",
       "      <td>4620.0</td>\n",
       "      <td>1775.0</td>\n",
       "      <td>4</td>\n",
       "      <td>5</td>\n",
       "      <td>2700.0</td>\n",
       "      <td>3</td>\n",
       "      <td>27104</td>\n",
       "    </tr>\n",
       "    <tr>\n",
       "      <th>738</th>\n",
       "      <td>Toyota</td>\n",
       "      <td>Corolla Altis</td>\n",
       "      <td>Toyota Corolla Altis</td>\n",
       "      <td>G Diesel</td>\n",
       "      <td>Sedan</td>\n",
       "      <td>Diesel</td>\n",
       "      <td>Injection</td>\n",
       "      <td>Manual</td>\n",
       "      <td>FWD (Front Wheel Drive)</td>\n",
       "      <td>1364</td>\n",
       "      <td>4</td>\n",
       "      <td>21.0</td>\n",
       "      <td>86.80</td>\n",
       "      <td>205</td>\n",
       "      <td>43.0</td>\n",
       "      <td>1475.0</td>\n",
       "      <td>4620.0</td>\n",
       "      <td>1775.0</td>\n",
       "      <td>4</td>\n",
       "      <td>5</td>\n",
       "      <td>2700.0</td>\n",
       "      <td>3</td>\n",
       "      <td>24794</td>\n",
       "    </tr>\n",
       "    <tr>\n",
       "      <th>739</th>\n",
       "      <td>Toyota</td>\n",
       "      <td>Corolla Altis</td>\n",
       "      <td>Toyota Corolla Altis</td>\n",
       "      <td>Vl At Petrol</td>\n",
       "      <td>Sedan</td>\n",
       "      <td>Petrol</td>\n",
       "      <td>Injection</td>\n",
       "      <td>Automatic</td>\n",
       "      <td>FWD (Front Wheel Drive)</td>\n",
       "      <td>1798</td>\n",
       "      <td>4</td>\n",
       "      <td>16.7</td>\n",
       "      <td>138.08</td>\n",
       "      <td>173</td>\n",
       "      <td>55.0</td>\n",
       "      <td>1475.0</td>\n",
       "      <td>4620.0</td>\n",
       "      <td>1775.0</td>\n",
       "      <td>4</td>\n",
       "      <td>5</td>\n",
       "      <td>2700.0</td>\n",
       "      <td>7</td>\n",
       "      <td>28266</td>\n",
       "    </tr>\n",
       "  </tbody>\n",
       "</table>\n",
       "</div>"
      ],
      "text/plain": [
       "       make          model              car_name       variant body_type  \\\n",
       "734  Toyota  Corolla Altis  Toyota Corolla Altis      G Petrol     Sedan   \n",
       "735  Toyota  Corolla Altis  Toyota Corolla Altis   G At Petrol     Sedan   \n",
       "736  Toyota  Corolla Altis  Toyota Corolla Altis     Gl Petrol     Sedan   \n",
       "737  Toyota  Corolla Altis  Toyota Corolla Altis     Gl Diesel     Sedan   \n",
       "738  Toyota  Corolla Altis  Toyota Corolla Altis      G Diesel     Sedan   \n",
       "739  Toyota  Corolla Altis  Toyota Corolla Altis  Vl At Petrol     Sedan   \n",
       "\n",
       "    fuel_type fuel_system       type               drivetrain  displacement  \\\n",
       "734    Petrol   Injection     Manual  FWD (Front Wheel Drive)          1798   \n",
       "735    Petrol   Injection  Automatic  FWD (Front Wheel Drive)          1798   \n",
       "736    Petrol   Injection     Manual  FWD (Front Wheel Drive)          1798   \n",
       "737    Diesel   Injection     Manual  FWD (Front Wheel Drive)          1364   \n",
       "738    Diesel   Injection     Manual  FWD (Front Wheel Drive)          1364   \n",
       "739    Petrol   Injection  Automatic  FWD (Front Wheel Drive)          1798   \n",
       "\n",
       "     cylinders  mileage   power  torque  fuel_tank  height  length   width  \\\n",
       "734          4     16.7  138.08     173       55.0  1475.0  4620.0  1775.0   \n",
       "735          4     16.7  138.08     173       55.0  1475.0  4620.0  1775.0   \n",
       "736          4     16.7  138.08     173       55.0  1475.0  4620.0  1775.0   \n",
       "737          4     21.0   86.80     205       43.0  1475.0  4620.0  1775.0   \n",
       "738          4     21.0   86.80     205       43.0  1475.0  4620.0  1775.0   \n",
       "739          4     16.7  138.08     173       55.0  1475.0  4620.0  1775.0   \n",
       "\n",
       "     doors  seats  wheelbase  airbags  price  \n",
       "734      4      5     2700.0        3  23030  \n",
       "735      4      5     2700.0        3  25284  \n",
       "736      4      5     2700.0        7  26348  \n",
       "737      4      5     2700.0        3  27104  \n",
       "738      4      5     2700.0        3  24794  \n",
       "739      4      5     2700.0        7  28266  "
      ]
     },
     "execution_count": 30,
     "metadata": {},
     "output_type": "execute_result"
    }
   ],
   "source": [
    "df[df.model =='Corolla Altis']"
   ]
  },
  {
   "cell_type": "code",
   "execution_count": 31,
   "id": "062e9030",
   "metadata": {},
   "outputs": [
    {
     "data": {
      "image/png": "[encoded data removed]",
      "text/plain": [
       "<Figure size 1400x1100 with 4 Axes>"
      ]
     },
     "metadata": {},
     "output_type": "display_data"
    }
   ],
   "source": [
    "fig,(ax1,ax2) = plt.subplots(2,1,figsize=(14,11))\n",
    "sns.histplot(data=df, x='price',bins=50, alpha=.6, color='darkblue', ax=ax1)\n",
    "ax12 = ax1.twinx()\n",
    "sns.kdeplot(data=df, x='price', alpha=.2,fill= True,color=\"#254b7f\",ax=ax12,linewidth=0)\n",
    "ax12.grid()\n",
    "ax1.set_title('Histogram of cars price data',fontsize=16)\n",
    "ax1.set_xlabel('')\n",
    "logbins = np.logspace(np.log10(3000),np.log10(744944.578),50)\n",
    "sns.histplot(data=df, x='price',bins=logbins,alpha=.6, color='darkblue',ax=ax2)\n",
    "ax2.set_title('Histogram of cars price data (log scale)',fontsize=16)\n",
    "ax2.set_xscale('log')\n",
    "ax22 = ax2.twinx()\n",
    "ax22.grid()\n",
    "sns.kdeplot(data=df, x='price', alpha=.2,fill= True,color=\"#254b7f\",ax=ax22,log_scale=True,linewidth=0)\n",
    "ax2.set_xlabel('Price (log)', fontsize=14)\n",
    "ax22.set_xticks((800,1000,10000,100000,1000000))\n",
    "ax2.xaxis.set_tick_params(labelsize=14);\n",
    "ax1.xaxis.set_tick_params(labelsize=14);"
   ]
  },
  {
   "cell_type": "code",
   "execution_count": 10,
   "id": "f644e3cd",
   "metadata": {},
   "outputs": [
    {
     "data": {
      "image/png": "[encoded data removed]",
      "text/plain": [
       "<Figure size 1600x700 with 1 Axes>"
      ]
     },
     "metadata": {},
     "output_type": "display_data"
    }
   ],
   "source": [
    "plt.figure(figsize=(16,7))\n",
    "sns.countplot(data=df, y='body_type',alpha=.6,color='darkblue')\n",
    "plt.title('Cars by car body type',fontsize=20)\n",
    "plt.xticks(fontsize=14)\n",
    "plt.yticks(fontsize=14)\n",
    "plt.xlabel('')\n",
    "plt.ylabel('');"
   ]
  },
  {
   "cell_type": "code",
   "execution_count": null,
   "id": "7f892f9e",
   "metadata": {},
   "outputs": [],
   "source": []
  },
  {
   "cell_type": "code",
   "execution_count": null,
   "id": "0a82e823",
   "metadata": {},
   "outputs": [],
   "source": []
  }
 ],
 "metadata": {
  "kernelspec": {
   "display_name": "Python 3 (ipykernel)",
   "language": "python",
   "name": "python3"
  },
  "language_info": {
   "codemirror_mode": {
    "name": "ipython",
    "version": 3
   },
   "file_extension": ".py",
   "mimetype": "text/x-python",
   "name": "python",
   "nbconvert_exporter": "python",
   "pygments_lexer": "ipython3",
   "version": "3.9.13"
  }
 },
 "nbformat": 4,
 "nbformat_minor": 5
}
